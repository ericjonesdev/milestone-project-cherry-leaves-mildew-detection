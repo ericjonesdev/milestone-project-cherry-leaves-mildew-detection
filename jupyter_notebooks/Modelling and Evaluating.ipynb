{
 "cells": [
  {
   "cell_type": "markdown",
   "metadata": {
    "id": "0aStgWSO0E0E"
   },
   "source": [
    "# Modelling and Evaluating Notebook"
   ]
  },
  {
   "cell_type": "markdown",
   "metadata": {
    "id": "1eLEkw5O0ECa"
   },
   "source": [
    "## Objectives\n",
    "\n",
    "* Answer business requirement 2:\n",
    "    * The client is interested to tell whether a given leaf contains a powdery mildew or not.\n",
    "\n",
    "## Inputs\n",
    "\n",
    "* inputs/cherry_mildew_dataset/cherry-leaves/train\n",
    "* inputs/cherry_mildew_dataset/cherry-leaves/test\n",
    "* inputs/cherry_mildew_dataset/cherry-leaves/validation\n",
    "* image shape embeddings.\n",
    "\n",
    "## Outputs\n",
    "\n",
    "* Images distribution plot in train, validation, and test set.\n",
    "* Image augmentation.\n",
    "* Class indices to change prediction inference in labels.\n",
    "* Machine learning model creation and training.\n",
    "* Save model.\n",
    "* Learning curve plot for model performance.\n",
    "* Model evaluation on pickle file.\n",
    "* Prediction on the random image file.\n",
    "\n",
    "## Additional Comments\n",
    "\n",
    "* No comment\n",
    "\n"
   ]
  },
  {
   "cell_type": "markdown",
   "metadata": {
    "id": "9uWZXH9LwoQg"
   },
   "source": [
    "---"
   ]
  },
  {
   "cell_type": "markdown",
   "metadata": {},
   "source": [
    "## Import regular packages"
   ]
  },
  {
   "cell_type": "code",
   "execution_count": null,
   "metadata": {},
   "outputs": [],
   "source": [
    "import os\n",
    "import pandas as pd\n",
    "import numpy as np\n",
    "import matplotlib.pyplot as plt\n",
    "import seaborn as sns\n",
    "from matplotlib.image import imread"
   ]
  },
  {
   "cell_type": "markdown",
   "metadata": {
    "id": "cqP-UeN-z3i2"
   },
   "source": [
    "# Change working directory"
   ]
  },
  {
   "cell_type": "markdown",
   "metadata": {},
   "source": [
    "***"
   ]
  },
  {
   "cell_type": "markdown",
   "metadata": {},
   "source": [
    "## Set working directory"
   ]
  },
  {
   "cell_type": "code",
   "execution_count": null,
   "metadata": {},
   "outputs": [],
   "source": [
    "current_dir = os.getcwd()"
   ]
  },
  {
   "cell_type": "code",
   "execution_count": null,
   "metadata": {},
   "outputs": [],
   "source": [
    "os.chdir('/workspaces/milestone-project-cherry-leaves-mildew-detection')\n",
    "print(\"You set a new current directory\")"
   ]
  },
  {
   "cell_type": "code",
   "execution_count": null,
   "metadata": {
    "id": "wZfF_j-Bz3i4",
    "outputId": "66943449-1436-4c3d-85c7-b85f9f78349b"
   },
   "outputs": [],
   "source": [
    "current_dir = os.getcwd()\n",
    "current_dir"
   ]
  },
  {
   "cell_type": "markdown",
   "metadata": {},
   "source": [
    "***"
   ]
  },
  {
   "cell_type": "markdown",
   "metadata": {},
   "source": [
    "## Set input directories"
   ]
  },
  {
   "cell_type": "markdown",
   "metadata": {},
   "source": [
    "Set train, validation and test paths"
   ]
  },
  {
   "cell_type": "code",
   "execution_count": null,
   "metadata": {},
   "outputs": [],
   "source": [
    "# This code snippet was adapted/updated from Code Institue Malaria Detector Walkthrough Sample Project\n",
    "# https://github.com/Code-Institute-Solutions/WalkthroughProject01/blob/b90e9193974b30d5a20dcf3a013c8e819cefebfd/jupyter_notebooks/03%20-%20Modelling%20and%20Evaluating.ipynb\n",
    "\n",
    "my_data_dir = os.path.abspath('inputs/cherry_mildew_dataset/cherry-leaves')\n",
    "train_path = os.path.join(my_data_dir, 'train')\n",
    "val_path = os.path.join(my_data_dir, 'validation')\n",
    "test_path = os.path.join(my_data_dir, 'test')"
   ]
  },
  {
   "cell_type": "markdown",
   "metadata": {},
   "source": [
    "## Set output directory"
   ]
  },
  {
   "cell_type": "code",
   "execution_count": null,
   "metadata": {},
   "outputs": [],
   "source": [
    "# This code snippet was adapted/updated from Code Institue Malaria Detector Walkthrough Sample Project\n",
    "# https://github.com/Code-Institute-Solutions/WalkthroughProject01/blob/b90e9193974b30d5a20dcf3a013c8e819cefebfd/jupyter_notebooks/03%20-%20Modelling%20and%20Evaluating.ipynb\n",
    "\n",
    "version = 'v1'\n",
    "file_path = f'outputs/{version}'\n",
    "\n",
    "if 'outputs' in os.listdir(current_dir) and version in os.listdir(current_dir + '/outputs'):\n",
    "    print('Old version is already available create a new version.')\n",
    "    pass\n",
    "else:\n",
    "    os.makedirs(name=file_path)"
   ]
  },
  {
   "cell_type": "markdown",
   "metadata": {},
   "source": [
    "## Set labels"
   ]
  },
  {
   "cell_type": "code",
   "execution_count": null,
   "metadata": {},
   "outputs": [],
   "source": [
    "# This code snippet was adapted from Code Institue Malaria Detector Walkthrough Sample Project\n",
    "# https://github.com/Code-Institute-Solutions/WalkthroughProject01/blob/b90e9193974b30d5a20dcf3a013c8e819cefebfd/jupyter_notebooks/03%20-%20Modelling%20and%20Evaluating.ipynb\n",
    "\n",
    "label_list = os.listdir(train_path)\n",
    "\n",
    "print(\n",
    "    f\"Project Labels: {label_list}\"\n",
    ")"
   ]
  },
  {
   "cell_type": "markdown",
   "metadata": {
    "id": "uFQo3ycuO-v6"
   },
   "source": [
    "## Set image shape"
   ]
  },
  {
   "cell_type": "code",
   "execution_count": null,
   "metadata": {},
   "outputs": [],
   "source": [
    "# This code snippet was adapted from Code Institue Malaria Detector Walkthrough Sample Project\n",
    "# https://github.com/Code-Institute-Solutions/WalkthroughProject01/blob/b90e9193974b30d5a20dcf3a013c8e819cefebfd/jupyter_notebooks/03%20-%20Modelling%20and%20Evaluating.ipynb\n",
    "\n",
    "## Import saved image shape embedding\n",
    "import joblib\n",
    "version = 'v1'\n",
    "image_shape = joblib.load(filename=f\"outputs/{version}/image_shape.pkl\")\n",
    "image_shape"
   ]
  },
  {
   "cell_type": "markdown",
   "metadata": {},
   "source": [
    "# Number of images in train, test and \n",
    "# validation data"
   ]
  },
  {
   "cell_type": "code",
   "execution_count": null,
   "metadata": {},
   "outputs": [],
   "source": [
    "# This code snippet was adapted from Code Institue Malaria Detector Walkthrough Sample Project\n",
    "# https://github.com/Code-Institute-Solutions/WalkthroughProject01/blob/b90e9193974b30d5a20dcf3a013c8e819cefebfd/jupyter_notebooks/03%20-%20Modelling%20and%20Evaluating.ipynb\n",
    "\n",
    "# Initialize an empty DataFrame to store the data\n",
    "df_freq = pd.DataFrame(columns=['Set', 'Label', 'Frequency'])\n",
    "\n",
    "\n",
    "folders = ['train', 'validation', 'test']\n",
    "\n",
    "# Iterate through folders and labels to count images\n",
    "for folder in folders:\n",
    "    for label in label_list:\n",
    "        folder_path = os.path.join(my_data_dir, folder, label)\n",
    "        num_images = len(os.listdir(folder_path))\n",
    "        df_freq = df_freq.append({'Set': folder, 'Label': label, 'Frequency': num_images}, ignore_index=True)\n",
    "        print(f\"* {folder} - {label}: {num_images} images\")\n",
    "\n",
    "# Plot the distribution of labels\n",
    "sns.set_style(\"whitegrid\")\n",
    "plt.figure(figsize=(8, 5))\n",
    "sns.barplot(data=df_freq, x='Set', y='Frequency', hue='Label')\n",
    "plt.savefig(f'{file_path}/labels_distribution.png', bbox_inches='tight', dpi=150)\n",
    "plt.show()\n"
   ]
  },
  {
   "cell_type": "markdown",
   "metadata": {},
   "source": [
    "***"
   ]
  },
  {
   "cell_type": "markdown",
   "metadata": {},
   "source": [
    "## Image data augmentation"
   ]
  },
  {
   "cell_type": "markdown",
   "metadata": {},
   "source": [
    "***"
   ]
  },
  {
   "cell_type": "markdown",
   "metadata": {},
   "source": [
    "### ImageDataGenerator"
   ]
  },
  {
   "cell_type": "code",
   "execution_count": null,
   "metadata": {},
   "outputs": [],
   "source": [
    "# This code snippet was adapted from Code Institue Malaria Detector Walkthrough Sample Project\n",
    "# https://github.com/Code-Institute-Solutions/WalkthroughProject01/blob/b90e9193974b30d5a20dcf3a013c8e819cefebfd/jupyter_notebooks/03%20-%20Modelling%20and%20Evaluating.ipynb\n",
    "\n",
    "from tensorflow.keras.preprocessing.image import ImageDataGenerator"
   ]
  },
  {
   "cell_type": "markdown",
   "metadata": {},
   "source": [
    " + ### Initialize ImageDataGenerator"
   ]
  },
  {
   "cell_type": "code",
   "execution_count": null,
   "metadata": {},
   "outputs": [],
   "source": [
    "# This code snippet was adapted from Code Institue Malaria Detector Walkthrough Sample Project\n",
    "# https://github.com/Code-Institute-Solutions/WalkthroughProject01/blob/b90e9193974b30d5a20dcf3a013c8e819cefebfd/jupyter_notebooks/03%20-%20Modelling%20and%20Evaluating.ipynb\n",
    "\n",
    "augmented_image_data = ImageDataGenerator(rotation_range=20,\n",
    "                                          width_shift_range=0.10,\n",
    "                                          height_shift_range=0.10,\n",
    "                                          shear_range=0.1,\n",
    "                                          zoom_range=0.1,\n",
    "                                          horizontal_flip=True,\n",
    "                                          vertical_flip=True,\n",
    "                                          fill_mode='nearest',\n",
    "                                          rescale=1./255\n",
    "                                          )"
   ]
  },
  {
   "cell_type": "markdown",
   "metadata": {},
   "source": [
    "* ## Augment training image dataset"
   ]
  },
  {
   "cell_type": "code",
   "execution_count": null,
   "metadata": {},
   "outputs": [],
   "source": [
    "# This code snippet was adapted from Code Institue Malaria Detector Walkthrough Sample Project\n",
    "# https://github.com/Code-Institute-Solutions/WalkthroughProject01/blob/b90e9193974b30d5a20dcf3a013c8e819cefebfd/jupyter_notebooks/03%20-%20Modelling%20and%20Evaluating.ipynb\n",
    "\n",
    "batch_size = 20  # Set batch size\n",
    "train_set = augmented_image_data.flow_from_directory(train_path,\n",
    "                                                     target_size=image_shape[:2],\n",
    "                                                     color_mode='rgb',\n",
    "                                                     batch_size=batch_size,\n",
    "                                                     class_mode='binary',\n",
    "                                                     shuffle=True\n",
    "                                                     )\n",
    "\n",
    "train_set.class_indices"
   ]
  },
  {
   "cell_type": "markdown",
   "metadata": {},
   "source": [
    "* ## Augment validation image dataset"
   ]
  },
  {
   "cell_type": "code",
   "execution_count": null,
   "metadata": {},
   "outputs": [],
   "source": [
    "# This code snippet was adapted from Code Institue Malaria Detector Walkthrough Sample Project\n",
    "# https://github.com/Code-Institute-Solutions/WalkthroughProject01/blob/b90e9193974b30d5a20dcf3a013c8e819cefebfd/jupyter_notebooks/03%20-%20Modelling%20and%20Evaluating.ipynb\n",
    "\n",
    "validation_set = ImageDataGenerator(rescale=1./255).flow_from_directory(val_path,\n",
    "                                                                        target_size=image_shape[:2],\n",
    "                                                                        color_mode='rgb',\n",
    "                                                                        batch_size=batch_size,\n",
    "                                                                        class_mode='binary',\n",
    "                                                                        shuffle=False\n",
    "                                                                        )\n",
    "\n",
    "validation_set.class_indices"
   ]
  },
  {
   "cell_type": "markdown",
   "metadata": {},
   "source": [
    "* ## Augment test image dataset"
   ]
  },
  {
   "cell_type": "code",
   "execution_count": null,
   "metadata": {},
   "outputs": [],
   "source": [
    "# This code snippet was adapted from Code Institue Malaria Detector Walkthrough Sample Project\n",
    "# https://github.com/Code-Institute-Solutions/WalkthroughProject01/blob/b90e9193974b30d5a20dcf3a013c8e819cefebfd/jupyter_notebooks/03%20-%20Modelling%20and%20Evaluating.ipynb\n",
    "\n",
    "test_set = ImageDataGenerator(rescale=1./255).flow_from_directory(test_path,\n",
    "                                                                  target_size=image_shape[:2],\n",
    "                                                                  color_mode='rgb',\n",
    "                                                                  batch_size=batch_size,\n",
    "                                                                  class_mode='binary',\n",
    "                                                                  shuffle=False\n",
    "                                                                  )\n",
    "\n",
    "test_set.class_indices"
   ]
  },
  {
   "cell_type": "markdown",
   "metadata": {},
   "source": [
    "## Plot augmented training image"
   ]
  },
  {
   "cell_type": "code",
   "execution_count": null,
   "metadata": {},
   "outputs": [],
   "source": [
    "# This code snippet was adapted from Code Institue Malaria Detector Walkthrough Sample Project\n",
    "# https://github.com/Code-Institute-Solutions/WalkthroughProject01/blob/b90e9193974b30d5a20dcf3a013c8e819cefebfd/jupyter_notebooks/03%20-%20Modelling%20and%20Evaluating.ipynb\n",
    "\n",
    "for _ in range(3):\n",
    "    img, label = train_set.next()\n",
    "    print(img.shape)\n",
    "    plt.imshow(img[0])\n",
    "    plt.show()"
   ]
  },
  {
   "cell_type": "markdown",
   "metadata": {},
   "source": [
    "## Plot augmented validation and test images"
   ]
  },
  {
   "cell_type": "code",
   "execution_count": null,
   "metadata": {},
   "outputs": [],
   "source": [
    "# This code snippet was adapted from Code Institue Malaria Detector Walkthrough Sample Project\n",
    "# https://github.com/Code-Institute-Solutions/WalkthroughProject01/blob/b90e9193974b30d5a20dcf3a013c8e819cefebfd/jupyter_notebooks/03%20-%20Modelling%20and%20Evaluating.ipynb\n",
    "\n",
    "for _ in range(3):\n",
    "    img, label = validation_set.next()\n",
    "    print(img.shape)\n",
    "    plt.imshow(img[0])\n",
    "    plt.show()"
   ]
  },
  {
   "cell_type": "code",
   "execution_count": null,
   "metadata": {},
   "outputs": [],
   "source": [
    "# This code snippet was adapted from Code Institue Malaria Detector Walkthrough Sample Project\n",
    "# https://github.com/Code-Institute-Solutions/WalkthroughProject01/blob/b90e9193974b30d5a20dcf3a013c8e819cefebfd/jupyter_notebooks/03%20-%20Modelling%20and%20Evaluating.ipynb\n",
    "\n",
    "for _ in range(3):\n",
    "    img, label = test_set.next()\n",
    "    print(img.shape)\n",
    "    plt.imshow(img[0])\n",
    "    plt.show()"
   ]
  },
  {
   "cell_type": "markdown",
   "metadata": {},
   "source": [
    "## Save class_indices"
   ]
  },
  {
   "cell_type": "code",
   "execution_count": null,
   "metadata": {},
   "outputs": [],
   "source": [
    "# This code snippet was adapted from Code Institue Malaria Detector Walkthrough Sample Project\n",
    "# https://github.com/Code-Institute-Solutions/WalkthroughProject01/blob/b90e9193974b30d5a20dcf3a013c8e819cefebfd/jupyter_notebooks/03%20-%20Modelling%20and%20Evaluating.ipynb\n",
    "\n",
    "joblib.dump(value=train_set.class_indices,\n",
    "            filename=f\"{file_path}/class_indices.pkl\")"
   ]
  },
  {
   "cell_type": "markdown",
   "metadata": {},
   "source": [
    "***"
   ]
  },
  {
   "cell_type": "markdown",
   "metadata": {},
   "source": [
    "# **Model creation**"
   ]
  },
  {
   "cell_type": "markdown",
   "metadata": {},
   "source": [
    "***"
   ]
  },
  {
   "cell_type": "markdown",
   "metadata": {},
   "source": [
    "## ML model"
   ]
  },
  {
   "cell_type": "markdown",
   "metadata": {},
   "source": [
    "* ## Import model packages"
   ]
  },
  {
   "cell_type": "code",
   "execution_count": null,
   "metadata": {},
   "outputs": [],
   "source": [
    "# This code snippet was adapted from Code Institue Malaria Detector Walkthrough Sample Project\n",
    "# https://github.com/Code-Institute-Solutions/WalkthroughProject01/blob/b90e9193974b30d5a20dcf3a013c8e819cefebfd/jupyter_notebooks/03%20-%20Modelling%20and%20Evaluating.ipynb\n",
    "\n",
    "from tensorflow.keras.models import Sequential\n",
    "from tensorflow.keras.layers import Activation, Dropout, Flatten, Dense, Conv2D, MaxPooling2D"
   ]
  },
  {
   "cell_type": "markdown",
   "metadata": {},
   "source": [
    "* ## Model"
   ]
  },
  {
   "cell_type": "code",
   "execution_count": null,
   "metadata": {},
   "outputs": [],
   "source": [
    "# This code snippet was adapted from Code Institue Malaria Detector Walkthrough Sample Project\n",
    "# https://github.com/Code-Institute-Solutions/WalkthroughProject01/blob/b90e9193974b30d5a20dcf3a013c8e819cefebfd/jupyter_notebooks/03%20-%20Modelling%20and%20Evaluating.ipynb\n",
    "\n",
    "def create_tf_model(input_shape, n_labels):\n",
    "    model = Sequential([\n",
    "        Conv2D(16, (3, 3), input_shape=input_shape, activation='relu'),\n",
    "        MaxPooling2D((2, 2)),\n",
    "        Conv2D(32, (3, 3), activation='relu'),\n",
    "        MaxPooling2D((2, 2)),\n",
    "        Flatten(),\n",
    "        Dense(64, activation='relu'),\n",
    "        Dense(128, activation='relu'),  \n",
    "        Dropout(0.5),\n",
    "        Dense(1, activation='sigmoid')  \n",
    "    ])\n",
    "\n",
    "    model.compile(loss='binary_crossentropy', optimizer='rmsprop', metrics=['accuracy'])\n",
    "    return model"
   ]
  },
  {
   "cell_type": "code",
   "execution_count": null,
   "metadata": {},
   "outputs": [],
   "source": [
    "# This code snippet was adapted from Code Institue Malaria Detector Walkthrough Sample Project\n",
    "# https://github.com/Code-Institute-Solutions/WalkthroughProject01/blob/b90e9193974b30d5a20dcf3a013c8e819cefebfd/jupyter_notebooks/03%20-%20Modelling%20and%20Evaluating.ipynb\n",
    "\n",
    "n_labels = len(label_list)  \n",
    "model = create_tf_model(input_shape=image_shape, n_labels=n_labels)\n",
    "model.summary()"
   ]
  },
  {
   "cell_type": "markdown",
   "metadata": {},
   "source": [
    "* ### Early Stopping"
   ]
  },
  {
   "cell_type": "code",
   "execution_count": null,
   "metadata": {},
   "outputs": [],
   "source": [
    "# This code snippet was adapted from Code Institue Malaria Detector Walkthrough Sample Project\n",
    "# https://github.com/Code-Institute-Solutions/WalkthroughProject01/blob/b90e9193974b30d5a20dcf3a013c8e819cefebfd/jupyter_notebooks/03%20-%20Modelling%20and%20Evaluating.ipynb\n",
    "\n",
    "\n",
    "from tensorflow.keras.callbacks import EarlyStopping\n",
    "early_stop = EarlyStopping(monitor='val_loss', patience=7)"
   ]
  },
  {
   "cell_type": "markdown",
   "metadata": {},
   "source": [
    "# Fit the model for training purposes"
   ]
  },
  {
   "cell_type": "code",
   "execution_count": null,
   "metadata": {},
   "outputs": [],
   "source": [
    "# This code snippet was adapted from Code Institue Malaria Detector Walkthrough Sample Project\n",
    "# https://github.com/Code-Institute-Solutions/WalkthroughProject01/blob/b90e9193974b30d5a20dcf3a013c8e819cefebfd/jupyter_notebooks/03%20-%20Modelling%20and%20Evaluating.ipynb\n",
    "\n",
    "model.fit(train_set,\n",
    "          epochs=25,\n",
    "          steps_per_epoch=len(train_set.classes) // batch_size,\n",
    "          validation_data=validation_set,\n",
    "          callbacks=[early_stop],\n",
    "          verbose=1\n",
    "          )"
   ]
  },
  {
   "cell_type": "markdown",
   "metadata": {},
   "source": [
    "* ## Save Model"
   ]
  },
  {
   "cell_type": "code",
   "execution_count": null,
   "metadata": {},
   "outputs": [],
   "source": [
    "# This code snippet was adapted from Code Institue Malaria Detector Walkthrough Sample Project\n",
    "# https://github.com/Code-Institute-Solutions/WalkthroughProject01/blob/b90e9193974b30d5a20dcf3a013c8e819cefebfd/jupyter_notebooks/03%20-%20Modelling%20and%20Evaluating.ipynb\n",
    "\n",
    "model.save('outputs/v1/cherry_mildew_detector_model.h5')"
   ]
  },
  {
   "cell_type": "markdown",
   "metadata": {},
   "source": [
    "***"
   ]
  },
  {
   "cell_type": "markdown",
   "metadata": {},
   "source": [
    "# **Model Performance**"
   ]
  },
  {
   "cell_type": "markdown",
   "metadata": {},
   "source": [
    "***"
   ]
  },
  {
   "cell_type": "markdown",
   "metadata": {},
   "source": [
    "## Model Learning Curve"
   ]
  },
  {
   "cell_type": "code",
   "execution_count": null,
   "metadata": {},
   "outputs": [],
   "source": [
    "# This code snippet was adapted from Code Institue Malaria Detector Walkthrough Sample Project\n",
    "# https://github.com/Code-Institute-Solutions/WalkthroughProject01/blob/main/jupyter_notebooks/03%20-%20Modelling%20and%20Evaluating.ipynb\n",
    "\n",
    "losses = pd.DataFrame(model.history.history)\n",
    "\n",
    "sns.set_style(\"whitegrid\")\n",
    "losses[['loss', 'val_loss']].plot(style='.-')\n",
    "plt.title(\"Loss\")\n",
    "plt.savefig(f'{file_path}/model_training_losses.png',\n",
    "            bbox_inches='tight', dpi=150)\n",
    "plt.show()\n",
    "\n",
    "print(\"\\n\")\n",
    "losses[['accuracy', 'val_accuracy']].plot(style='.-')\n",
    "plt.title(\"Accuracy\")\n",
    "plt.savefig(f'{file_path}/model_training_acc.png',\n",
    "            bbox_inches='tight', dpi=150)\n",
    "plt.show()"
   ]
  },
  {
   "cell_type": "markdown",
   "metadata": {},
   "source": [
    "### Model Evaluation"
   ]
  },
  {
   "cell_type": "markdown",
   "metadata": {},
   "source": [
    "Load Saved Model"
   ]
  },
  {
   "cell_type": "code",
   "execution_count": null,
   "metadata": {},
   "outputs": [],
   "source": [
    "import requests\n",
    "from keras.models import load_model\n",
    "from io import BytesIO\n",
    "from tempfile import NamedTemporaryFile\n",
    "\n",
    "# model url\n",
    "model_url = 'https://drive.google.com/uc?id=1jMOU1eHCgkZsEHF5_VBiPm916xVl2gqn'\n",
    "\n",
    "# Download the model file from the URL\n",
    "response = requests.get(model_url)\n",
    "\n",
    "# Create a temporary file to save the model\n",
    "with NamedTemporaryFile(delete=False, suffix=\".h5\") as tmp_file:\n",
    "    tmp_file.write(response.content)\n",
    "    tmp_file_path = tmp_file.name\n",
    "\n",
    "# Load the Keras model from the temporary file\n",
    "model = load_model(tmp_file_path, compile=False)\n",
    "model.compile(loss='binary_crossentropy', optimizer='rmsprop', metrics=['accuracy'])"
   ]
  },
  {
   "cell_type": "code",
   "execution_count": null,
   "metadata": {},
   "outputs": [],
   "source": [
    "mod_evaluation = model.evaluate(test_set)"
   ]
  },
  {
   "cell_type": "markdown",
   "metadata": {},
   "source": [
    "### Save Evaluation Test Pickle File"
   ]
  },
  {
   "cell_type": "code",
   "execution_count": null,
   "metadata": {},
   "outputs": [],
   "source": [
    "joblib.dump(value=mod_evaluation,\n",
    "            filename=f\"outputs/v1/evaluation.pkl\")"
   ]
  },
  {
   "cell_type": "markdown",
   "metadata": {},
   "source": [
    "## Predict on New Data"
   ]
  },
  {
   "cell_type": "code",
   "execution_count": null,
   "metadata": {},
   "outputs": [],
   "source": [
    "# This code snippet was adapted from Code Institue Malaria Detector Walkthrough Sample Project\n",
    "# https://github.com/Code-Institute-Solutions/WalkthroughProject01/blob/main/jupyter_notebooks/03%20-%20Modelling%20and%20Evaluating.ipynb\n",
    "\n",
    "from tensorflow.keras.preprocessing import image\n",
    "\n",
    "pointer = 66\n",
    "label = label_list[0]  # select healthy or mildew\n",
    "\n",
    "leaf_image = image.load_img(test_path + '/' + label + '/' + os.listdir(test_path+'/' + label)[pointer],\n",
    "                           target_size=image_shape, color_mode='rgb')\n",
    "print(f'Image shape: {leaf_image.size}, Image mode: {leaf_image.mode}')\n",
    "leaf_image"
   ]
  },
  {
   "cell_type": "markdown",
   "metadata": {},
   "source": [
    "### Convert image to array and prepare for prediction"
   ]
  },
  {
   "cell_type": "code",
   "execution_count": null,
   "metadata": {},
   "outputs": [],
   "source": [
    "\n",
    "my_image = image.img_to_array(leaf_image)\n",
    "my_image = np.expand_dims(my_image, axis=0)/255\n",
    "print(my_image.shape)"
   ]
  },
  {
   "cell_type": "markdown",
   "metadata": {},
   "source": [
    "### Predict class probabilities"
   ]
  },
  {
   "cell_type": "code",
   "execution_count": null,
   "metadata": {},
   "outputs": [],
   "source": [
    "# This code snippet was adapted from Code Institue Malaria Detector Walkthrough Sample Project\n",
    "# https://github.com/Code-Institute-Solutions/WalkthroughProject01/blob/main/jupyter_notebooks/03%20-%20Modelling%20and%20Evaluating.ipynb\n",
    "\n",
    "pred_proba = model.predict(my_image)[0, 0]\n",
    "\n",
    "target_map = {v: k for k, v in train_set.class_indices.items()}\n",
    "pred_class = target_map[pred_proba > 0.5]\n",
    "\n",
    "if pred_class == target_map[0]:\n",
    "    pred_proba = 1 - pred_proba\n",
    "\n",
    "print(pred_proba)\n",
    "print(pred_class)"
   ]
  },
  {
   "cell_type": "markdown",
   "metadata": {},
   "source": [
    "## Push Files To Repo"
   ]
  },
  {
   "cell_type": "markdown",
   "metadata": {},
   "source": [
    "### Push new/generated files from this session to github repo"
   ]
  },
  {
   "cell_type": "markdown",
   "metadata": {},
   "source": [
    "* .gitignore"
   ]
  },
  {
   "cell_type": "code",
   "execution_count": null,
   "metadata": {},
   "outputs": [],
   "source": [
    "!cat .gitignore"
   ]
  },
  {
   "cell_type": "markdown",
   "metadata": {},
   "source": [
    "* Git Status"
   ]
  },
  {
   "cell_type": "code",
   "execution_count": null,
   "metadata": {},
   "outputs": [],
   "source": [
    "!git status"
   ]
  },
  {
   "cell_type": "markdown",
   "metadata": {},
   "source": [
    "* Git add"
   ]
  },
  {
   "cell_type": "code",
   "execution_count": null,
   "metadata": {},
   "outputs": [],
   "source": [
    "!git add ."
   ]
  },
  {
   "cell_type": "markdown",
   "metadata": {},
   "source": [
    "* Git Commit"
   ]
  },
  {
   "cell_type": "code",
   "execution_count": null,
   "metadata": {},
   "outputs": [],
   "source": [
    "!git commit -am \" Add new plots\""
   ]
  },
  {
   "cell_type": "markdown",
   "metadata": {},
   "source": [
    "* Git push"
   ]
  },
  {
   "cell_type": "code",
   "execution_count": null,
   "metadata": {},
   "outputs": [],
   "source": [
    "!git push origin main"
   ]
  },
  {
   "cell_type": "markdown",
   "metadata": {},
   "source": [
    "# Conclusions and Next Steps"
   ]
  },
  {
   "cell_type": "markdown",
   "metadata": {},
   "source": [
    "## Conclusion"
   ]
  },
  {
   "cell_type": "markdown",
   "metadata": {},
   "source": [
    "* ### The image dataset underwent augmentation to fulfill the substantial image quantity requirement of a convolutional neural network (CNN)."
   ]
  },
  {
   "cell_type": "markdown",
   "metadata": {},
   "source": [
    "* ### The deep-learning Convolutional Neural Network was employed to train and fine-tune the model."
   ]
  },
  {
   "cell_type": "markdown",
   "metadata": {},
   "source": [
    "* ### The model's performance was assessed using new data, and it met the client's requirements for accuracy."
   ]
  },
  {
   "cell_type": "markdown",
   "metadata": {},
   "source": [
    "* ### The Model and its evaluation were saved as a pickle file."
   ]
  },
  {
   "cell_type": "markdown",
   "metadata": {},
   "source": [
    "* ### The model fulfilled the business requirement for accuracy."
   ]
  },
  {
   "cell_type": "markdown",
   "metadata": {},
   "source": [
    "## Next Steps:"
   ]
  },
  {
   "cell_type": "markdown",
   "metadata": {},
   "source": [
    "* ### Fulfill dashboard interface business requirement for the client."
   ]
  },
  {
   "cell_type": "code",
   "execution_count": null,
   "metadata": {},
   "outputs": [],
   "source": []
  }
 ],
 "metadata": {
  "accelerator": "GPU",
  "colab": {
   "name": "Data Practitioner Jupyter Notebook.ipynb",
   "provenance": [],
   "toc_visible": true
  },
  "interpreter": {
   "hash": "8b8334dab9339717f727a1deaf837b322d7a41c20d15cc86be99a8e69ceec8ce"
  },
  "kernelspec": {
   "display_name": "Python 3 (ipykernel)",
   "language": "python",
   "name": "python3"
  },
  "language_info": {
   "codemirror_mode": {
    "name": "ipython",
    "version": 3
   },
   "file_extension": ".py",
   "mimetype": "text/x-python",
   "name": "python",
   "nbconvert_exporter": "python",
   "pygments_lexer": "ipython3",
   "version": "3.8.12"
  }
 },
 "nbformat": 4,
 "nbformat_minor": 4
}
